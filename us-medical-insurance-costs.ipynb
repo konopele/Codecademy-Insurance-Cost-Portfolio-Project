{
 "cells": [
  {
   "cell_type": "markdown",
   "metadata": {},
   "source": [
    "# U.S. Medical Insurance Costs"
   ]
  },
  {
   "cell_type": "markdown",
   "metadata": {},
   "source": [
    "This project is about being more comfortable with Python basics and simply analyzing the U.S. Medical Insurance Cost dataset. My goal for this project is finishing the project and getting familiar with Python features that I'm not very familiar with, such as classes. Also, I want to mention that this is my first data science project."
   ]
  },
  {
   "cell_type": "code",
   "execution_count": 1,
   "metadata": {},
   "outputs": [],
   "source": [
    "# Because the dataset file is in .csv format, I'm importing csv module\n",
    "import csv"
   ]
  },
  {
   "cell_type": "markdown",
   "metadata": {},
   "source": [
    "Creating Python lists for each column in the dataset."
   ]
  },
  {
   "cell_type": "code",
   "execution_count": 2,
   "metadata": {},
   "outputs": [],
   "source": [
    "ages = []\n",
    "sexes = []\n",
    "bmis = []\n",
    "child_count = []\n",
    "smoker_statuses = []\n",
    "regions = []\n",
    "charges = []"
   ]
  },
  {
   "cell_type": "markdown",
   "metadata": {},
   "source": [
    "Creating a function to making csv to list process easier."
   ]
  },
  {
   "cell_type": "code",
   "execution_count": 3,
   "metadata": {},
   "outputs": [],
   "source": [
    "def insertData(lst,column):\n",
    "    with open('insurance.csv') as csvFile:\n",
    "        csvFileReader = csv.DictReader(csvFile)\n",
    "        for row in csvFileReader:\n",
    "            lst.append(row[column])"
   ]
  },
  {
   "cell_type": "markdown",
   "metadata": {},
   "source": [
    "Inserting data into the lists using insertData function."
   ]
  },
  {
   "cell_type": "code",
   "execution_count": 4,
   "metadata": {},
   "outputs": [],
   "source": [
    "insertData(ages,\"age\")\n",
    "insertData(sexes,\"sex\")\n",
    "insertData(bmis,\"bmi\")\n",
    "insertData(child_count,\"children\")\n",
    "insertData(smoker_statuses,\"smoker\")\n",
    "insertData(regions,\"region\")\n",
    "insertData(charges,\"charges\")"
   ]
  },
  {
   "cell_type": "markdown",
   "metadata": {},
   "source": [
    "Building a class for the data. Because I am given that in this dataset there aren't any null or missing values, I am not checking if a value is null or not."
   ]
  },
  {
   "cell_type": "code",
   "execution_count": 5,
   "metadata": {},
   "outputs": [],
   "source": [
    "class InsuranceInfo:\n",
    "    \n",
    "    # Initializing the class\n",
    "    def __init__(self,ages,sexes,bmis,child_count,smoker_statuses,regions,charges):\n",
    "        self.ages = ages\n",
    "        self.sexes = sexes\n",
    "        self.bmis= bmis\n",
    "        self.child_count = child_count\n",
    "        self.smoker_statuses = smoker_statuses\n",
    "        self.regions = regions\n",
    "        self.charges = charges\n",
    "    \n",
    "    # Calculating average age of the patients in the dataset.\n",
    "    def averageAge(self):\n",
    "        # Adding every item into to sum variable.\n",
    "        sum = 0\n",
    "        for age in ages:\n",
    "            sum += int(age)\n",
    "        return sum/len(self.ages)\n",
    "    \n",
    "    # Finding out where the majority comes from\n",
    "    def regionCount(self):\n",
    "        # Going through every item in the list and saving it into the regionCount dictionary.\n",
    "        regionCount = {}\n",
    "        for region in self.regions:\n",
    "            if not region in regionCount:\n",
    "                regionCount[region] = 0\n",
    "            else:\n",
    "                currentCount = regionCount[region] + 1\n",
    "                regionCount[region] = currentCount\n",
    "        return regionCount\n",
    "    \n",
    "    # Analyzing the difference cost between smokers vs. non-smokers.\n",
    "    def smokerDifference(self):\n",
    "        smokerPatients = []\n",
    "        nonSmokerPatients = []\n",
    "        smokerSum = 0\n",
    "        nonSmokerSum = 0\n",
    "        \n",
    "        # Saving the index of patient in self.smoker_statuses list to smokerPatients or nonSmokerPatients depending on their smoking status.\n",
    "        for i,patient in enumerate(self.smoker_statuses):\n",
    "            if(patient == \"yes\"):\n",
    "                smokerPatients.append(i)\n",
    "            else:\n",
    "                nonSmokerPatients.append(i)\n",
    "        \n",
    "        # Summing the charges of \n",
    "        for smoker in smokerPatients:\n",
    "            smokerSum += float(self.charges[smoker])\n",
    "            smokerAverage = smokerSum / len(smokerPatients)\n",
    "            \n",
    "        for nonSmoker in nonSmokerPatients:\n",
    "            nonSmokerSum += float(charges[nonSmoker])\n",
    "            nonSmokerAverage = nonSmokerSum / len(nonSmokerPatients)\n",
    "                \n",
    "        print(\"The average insurance charge of smokers :\" + str(smokerAverage))\n",
    "        print(\"The average insurance charge of non-smokers :\" + str(nonSmokerAverage))\n",
    "        print(\"Non-smokers are greater than smokers by : \" + str(abs(smokerSum- nonSmokerSum)))\n",
    "        print(\"The count of smokers : \" + str(len(smokerPatients)))\n",
    "        print(\"The count of non-smokers : \" + str(len(nonSmokerPatients)))\n",
    "    \n",
    "    # Figuring out what the average age is for someone who has at least one child in this dataset.\n",
    "    def childrenAgeMEAN(self):\n",
    "        patientsWithChildren = []\n",
    "        ageSum = 0\n",
    "        \n",
    "        for i,count in enumerate(self.child_count):\n",
    "            if int(count) > 0:\n",
    "                patientsWithChildren.append(i)\n",
    "        \n",
    "        for i in patientsWithChildren:\n",
    "            ageSum += int(self.ages[i])\n",
    "            \n",
    "        return ageSum / len(self.ages)"
   ]
  },
  {
   "cell_type": "markdown",
   "metadata": {},
   "source": [
    "Creating an instance of InsuranceInfo class"
   ]
  },
  {
   "cell_type": "code",
   "execution_count": 6,
   "metadata": {},
   "outputs": [],
   "source": [
    "insuranceInfo = InsuranceInfo(ages,sexes,bmis,child_count,smoker_statuses,regions,charges)"
   ]
  },
  {
   "cell_type": "markdown",
   "metadata": {},
   "source": [
    "Printing the average age of patients in the dataset."
   ]
  },
  {
   "cell_type": "code",
   "execution_count": 7,
   "metadata": {},
   "outputs": [
    {
     "name": "stdout",
     "output_type": "stream",
     "text": [
      "39.20702541106129\n"
     ]
    }
   ],
   "source": [
    "print(insuranceInfo.averageAge())"
   ]
  },
  {
   "cell_type": "markdown",
   "metadata": {},
   "source": [
    "Printing the region count in the dataset."
   ]
  },
  {
   "cell_type": "code",
   "execution_count": 8,
   "metadata": {},
   "outputs": [
    {
     "name": "stdout",
     "output_type": "stream",
     "text": [
      "{'southwest': 324, 'southeast': 363, 'northwest': 324, 'northeast': 323}\n"
     ]
    }
   ],
   "source": [
    "print(insuranceInfo.regionCount())"
   ]
  },
  {
   "cell_type": "markdown",
   "metadata": {},
   "source": [
    "Printing the difference between smokers and non-smokers."
   ]
  },
  {
   "cell_type": "code",
   "execution_count": 9,
   "metadata": {},
   "outputs": [
    {
     "name": "stdout",
     "output_type": "stream",
     "text": [
      "The average insurance charge of smokers :32050.23183153285\n",
      "The average insurance charge of non-smokers :8434.268297856199\n",
      "Non-smokers are greater than smokers by : 192297.9470789954\n",
      "The count of smokers : 274\n",
      "The count of non-smokers : 1064\n"
     ]
    }
   ],
   "source": [
    "insuranceInfo.smokerDifference()"
   ]
  },
  {
   "cell_type": "markdown",
   "metadata": {},
   "source": [
    "Printing the average age for someone who has at least one child in the datatset."
   ]
  },
  {
   "cell_type": "code",
   "execution_count": 10,
   "metadata": {},
   "outputs": [
    {
     "name": "stdout",
     "output_type": "stream",
     "text": [
      "22.714499252615845\n"
     ]
    }
   ],
   "source": [
    "print(insuranceInfo.childrenAgeMEAN())"
   ]
  }
 ],
 "metadata": {
  "kernelspec": {
   "display_name": "Python 3",
   "language": "python",
   "name": "python3"
  },
  "language_info": {
   "codemirror_mode": {
    "name": "ipython",
    "version": 3
   },
   "file_extension": ".py",
   "mimetype": "text/x-python",
   "name": "python",
   "nbconvert_exporter": "python",
   "pygments_lexer": "ipython3",
   "version": "3.8.5"
  }
 },
 "nbformat": 4,
 "nbformat_minor": 4
}
